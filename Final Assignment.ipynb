{
 "cells": [
  {
   "cell_type": "code",
   "execution_count": 1,
   "metadata": {},
   "outputs": [],
   "source": [
    "#list\n"
   ]
  },
  {
   "cell_type": "code",
   "execution_count": 2,
   "metadata": {},
   "outputs": [
    {
     "name": "stdout",
     "output_type": "stream",
     "text": [
      "[10, 20, 30] [2.0, 3.0, 5.2] ['a', 'b', 'c'] ['gitam', 'university']\n"
     ]
    }
   ],
   "source": [
    "integers=[10,20,30]\n",
    "fp=[2.0,3.0,5.2]\n",
    "ch=[\"a\",\"b\",\"c\"]\n",
    "st=[\"gitam\",\"university\"]\n",
    "print(integers,fp,ch,st)"
   ]
  },
  {
   "cell_type": "code",
   "execution_count": 3,
   "metadata": {},
   "outputs": [
    {
     "name": "stdout",
     "output_type": "stream",
     "text": [
      "[10, 5.7, 'c', 'gitam  uni']\n"
     ]
    }
   ],
   "source": [
    "s=[10,5.7,'c',\"gitam  uni\"]\n",
    "print(s)"
   ]
  },
  {
   "cell_type": "code",
   "execution_count": 4,
   "metadata": {},
   "outputs": [
    {
     "name": "stdout",
     "output_type": "stream",
     "text": [
      "[]\n"
     ]
    }
   ],
   "source": [
    "a=[]\n",
    "print(a)"
   ]
  },
  {
   "cell_type": "code",
   "execution_count": 5,
   "metadata": {},
   "outputs": [
    {
     "name": "stdout",
     "output_type": "stream",
     "text": [
      "[10, 10, 20]\n"
     ]
    }
   ],
   "source": [
    "ab=[10,10,20]\n",
    "print(ab)"
   ]
  },
  {
   "cell_type": "code",
   "execution_count": 6,
   "metadata": {},
   "outputs": [
    {
     "name": "stdout",
     "output_type": "stream",
     "text": [
      "banana\n"
     ]
    }
   ],
   "source": [
    "list1=[\"apple\",\"banana\",\"mango\"]\n",
    "print(list1[1])"
   ]
  },
  {
   "cell_type": "code",
   "execution_count": 7,
   "metadata": {},
   "outputs": [
    {
     "name": "stdout",
     "output_type": "stream",
     "text": [
      "banana\n",
      "apple\n",
      "apple\n"
     ]
    }
   ],
   "source": [
    "print(list1[-2])\n",
    "print(list1[-3])\n",
    "print(list1[0])\n"
   ]
  },
  {
   "cell_type": "code",
   "execution_count": 8,
   "metadata": {},
   "outputs": [
    {
     "name": "stdout",
     "output_type": "stream",
     "text": [
      "['apple', 'banana']\n"
     ]
    }
   ],
   "source": [
    "print(list1[0:2])"
   ]
  },
  {
   "cell_type": "code",
   "execution_count": 10,
   "metadata": {},
   "outputs": [
    {
     "name": "stdout",
     "output_type": "stream",
     "text": [
      "[20, 30, 40]\n",
      "[10, 20, 30, 40]\n",
      "[20, 30, 40]\n",
      "[30, 40]\n",
      "[10, 20, 30, 40]\n",
      "[30, 40, 50]\n"
     ]
    }
   ],
   "source": [
    "list2=[10,20,30,40,50]\n",
    "print(list2[1:4])\n",
    "print(list2[0:4])\n",
    "print(list2[-4:-1])\n",
    "print(list2[-3:-1])\n",
    "print(list2[-5:-1])\n",
    "print(list2[2:5])\n",
    "\n"
   ]
  },
  {
   "cell_type": "code",
   "execution_count": 11,
   "metadata": {},
   "outputs": [
    {
     "name": "stdout",
     "output_type": "stream",
     "text": [
      "[30, 40, 50]\n"
     ]
    }
   ],
   "source": [
    "print(list2[2:])"
   ]
  },
  {
   "cell_type": "code",
   "execution_count": 12,
   "metadata": {},
   "outputs": [
    {
     "name": "stdout",
     "output_type": "stream",
     "text": [
      "[30, 40, 50]\n"
     ]
    }
   ],
   "source": [
    "print(list2[2:])"
   ]
  },
  {
   "cell_type": "code",
   "execution_count": 13,
   "metadata": {},
   "outputs": [
    {
     "name": "stdout",
     "output_type": "stream",
     "text": [
      "[1, 2, 3, 2, 3, 4]\n"
     ]
    }
   ],
   "source": [
    "l1=[1,2,3]\n",
    "l2=[2,3,4]\n",
    "l3=l1+l2\n",
    "print(l3)"
   ]
  },
  {
   "cell_type": "code",
   "execution_count": 14,
   "metadata": {},
   "outputs": [
    {
     "name": "stdout",
     "output_type": "stream",
     "text": [
      "[10, 20, 30, 50]\n",
      "[10, 20, 40, 50]\n"
     ]
    }
   ],
   "source": [
    "list3=[10,20,30,50]\n",
    "print(list3)\n",
    "list3[2]=40\n",
    "print(list3)"
   ]
  },
  {
   "cell_type": "code",
   "execution_count": 15,
   "metadata": {},
   "outputs": [
    {
     "name": "stdout",
     "output_type": "stream",
     "text": [
      "nope\n"
     ]
    }
   ],
   "source": [
    "list5=[\"sony\",\"mi\",\"samsung\"]\n",
    "if \"htc\" in list5:\n",
    "    print(\"yep\")\n",
    "else:\n",
    "    print(\"nope\")"
   ]
  },
  {
   "cell_type": "code",
   "execution_count": 16,
   "metadata": {},
   "outputs": [
    {
     "name": "stdout",
     "output_type": "stream",
     "text": [
      "3\n"
     ]
    }
   ],
   "source": [
    "#how many elements in list\n",
    "#len()-determine no. of elements in list\n",
    "\n",
    "print(len(list5))"
   ]
  },
  {
   "cell_type": "code",
   "execution_count": 19,
   "metadata": {},
   "outputs": [
    {
     "name": "stdout",
     "output_type": "stream",
     "text": [
      "[10, 20, [1, 2]]\n",
      "3\n"
     ]
    }
   ],
   "source": [
    "#nested list-list inside the list\n",
    "list6=[10,20,[1,2]]\n",
    "print(list6)\n",
    "print(len(list6))"
   ]
  },
  {
   "cell_type": "code",
   "execution_count": 1,
   "metadata": {},
   "outputs": [
    {
     "name": "stdout",
     "output_type": "stream",
     "text": [
      "['a', 'b', 'c', 'd', 'e']\n",
      "['a', 'b', 'c', 'd', 'e', 'd', 'e']\n"
     ]
    }
   ],
   "source": [
    "l1=[\"a\",\"b\",\"c\"]\n",
    "l2=[\"d\",\"e\"]\n",
    "l1.extend(l2)\n",
    "l3=l1+l2\n",
    "print(l1)\n",
    "print(l3)"
   ]
  },
  {
   "cell_type": "code",
   "execution_count": 2,
   "metadata": {},
   "outputs": [
    {
     "name": "stdout",
     "output_type": "stream",
     "text": [
      "[1, 2, 3, 5]\n"
     ]
    }
   ],
   "source": [
    "l4=[2,5,1,3]\n",
    "l4.sort()\n",
    "print(l4)"
   ]
  },
  {
   "cell_type": "code",
   "execution_count": 4,
   "metadata": {},
   "outputs": [
    {
     "name": "stdout",
     "output_type": "stream",
     "text": [
      "5\n",
      "1\n",
      "8\n",
      "22\n"
     ]
    }
   ],
   "source": [
    "num=[1,5,6,8,2]\n",
    "print(len(num))\n",
    "print(min(num))\n",
    "print(max(num))\n",
    "print(sum(num))"
   ]
  },
  {
   "cell_type": "code",
   "execution_count": 5,
   "metadata": {},
   "outputs": [
    {
     "name": "stdout",
     "output_type": "stream",
     "text": [
      "4.4\n"
     ]
    }
   ],
   "source": [
    "#Average\n",
    "print(sum(num)/len(num))"
   ]
  },
  {
   "cell_type": "code",
   "execution_count": 6,
   "metadata": {},
   "outputs": [
    {
     "name": "stdout",
     "output_type": "stream",
     "text": [
      "[1, 2, 5, 3, 4]\n"
     ]
    }
   ],
   "source": [
    "#insertion\n",
    "l5=[1,2,3,4]\n",
    "l5.insert(2,5)\n",
    "print(l5)"
   ]
  },
  {
   "cell_type": "code",
   "execution_count": 9,
   "metadata": {},
   "outputs": [
    {
     "name": "stdout",
     "output_type": "stream",
     "text": [
      "['a', 'c', 'd']\n",
      "b\n"
     ]
    }
   ],
   "source": [
    "#Deletion\n",
    "\n",
    "t=['a','b','c','d']\n",
    "x=t.pop(1)       #mention the index of the element to be deleted\n",
    "                 #return the deleted element\n",
    "print(t)\n",
    "print(x)"
   ]
  },
  {
   "cell_type": "code",
   "execution_count": 13,
   "metadata": {},
   "outputs": [
    {
     "name": "stdout",
     "output_type": "stream",
     "text": [
      "[2, 6]\n"
     ]
    }
   ],
   "source": [
    "p=[2,5,6]\n",
    "del p[1] #deletes the element and print statement prints the rest eleme\n",
    "print(p)"
   ]
  },
  {
   "cell_type": "code",
   "execution_count": 15,
   "metadata": {},
   "outputs": [
    {
     "name": "stdout",
     "output_type": "stream",
     "text": [
      "[2]\n"
     ]
    }
   ],
   "source": [
    "#removing element\n",
    "\n",
    "r=[2,4,5,6]\n",
    "r.remove(6)  #enter the element to be removed\n",
    "\n",
    "#Deleting elements in range (REM0VING MORE THAN ONE ELE)\n",
    "\n",
    "del r[1:3]\n",
    "print(r)\n"
   ]
  },
  {
   "cell_type": "code",
   "execution_count": 16,
   "metadata": {},
   "outputs": [
    {
     "name": "stdout",
     "output_type": "stream",
     "text": [
      "[8, 7, 4, 3]\n"
     ]
    }
   ],
   "source": [
    "m1=[7,3,8,4]\n",
    "m1.sort(reverse=True)\n",
    "print(m1)"
   ]
  },
  {
   "cell_type": "code",
   "execution_count": 18,
   "metadata": {},
   "outputs": [
    {
     "name": "stdout",
     "output_type": "stream",
     "text": [
      "Enter the numbers:2\n",
      "Enter the numbers:4\n",
      "Enter the numbers:6\n",
      "Enter the numbers:done\n",
      "Average is : 4.0\n"
     ]
    }
   ],
   "source": [
    "total=0\n",
    "count=0\n",
    "while(True):\n",
    " i=input(\"Enter the numbers:\")\n",
    " if i=='done': \n",
    "    break\n",
    " value=float(i)\n",
    " total=total+value\n",
    " count=count+1\n",
    "average=total/count\n",
    "print(\"Average is :\",average)"
   ]
  },
  {
   "cell_type": "code",
   "execution_count": 19,
   "metadata": {},
   "outputs": [
    {
     "name": "stdout",
     "output_type": "stream",
     "text": [
      "[]\n"
     ]
    }
   ],
   "source": [
    "#deleting the elements in list but not clearing list\n",
    "m3=[6,8,9]\n",
    "m3.clear()\n",
    "print(m3)"
   ]
  },
  {
   "cell_type": "code",
   "execution_count": 24,
   "metadata": {},
   "outputs": [
    {
     "data": {
      "text/plain": [
       "True"
      ]
     },
     "execution_count": 24,
     "metadata": {},
     "output_type": "execute_result"
    }
   ],
   "source": [
    "a=[1,2,3]\n",
    "b=[1,2,3]\n",
    "b is a   #false\n",
    "b=a\n",
    "b is a  #now true"
   ]
  },
  {
   "cell_type": "code",
   "execution_count": 27,
   "metadata": {},
   "outputs": [
    {
     "name": "stdout",
     "output_type": "stream",
     "text": [
      "[3, 5, 7]\n"
     ]
    }
   ],
   "source": [
    "o1=[1,2,3]\n",
    "o2=[2,3,4]\n",
    "zippedlist=zip(o1,o2)\n",
    "sum=[x+y for (x,y) in zippedlist]\n",
    "print(sum)\n"
   ]
  },
  {
   "cell_type": "code",
   "execution_count": 3,
   "metadata": {},
   "outputs": [
    {
     "name": "stdout",
     "output_type": "stream",
     "text": [
      "one\n"
     ]
    }
   ],
   "source": [
    "dict1={1:\"one\",2:\"two\"}\n",
    "#print(dict[1])\n",
    "print(dict1.get(1))"
   ]
  },
  {
   "cell_type": "code",
   "execution_count": 1,
   "metadata": {},
   "outputs": [
    {
     "name": "stdout",
     "output_type": "stream",
     "text": [
      "{'one': 1, 'two': 2.2}\n"
     ]
    }
   ],
   "source": [
    "dict4={\"one\":1, \"two\":2.2}\n",
    "print(dict4)"
   ]
  },
  {
   "cell_type": "code",
   "execution_count": 6,
   "metadata": {},
   "outputs": [
    {
     "name": "stdout",
     "output_type": "stream",
     "text": [
      "{1: 'one', 2: 'two', 3: 'four'}\n",
      "{1: 'one', 2: 'two', 3: 'three'}\n"
     ]
    }
   ],
   "source": [
    "#Changing the values of the dictionary\n",
    "dict1={1:\"one\",2:\"two\",3:\"four\"} \n",
    "print(dict1)\n",
    "dict1[3]=\"three\"\n",
    "print(dict1)"
   ]
  },
  {
   "cell_type": "code",
   "execution_count": 7,
   "metadata": {},
   "outputs": [
    {
     "name": "stdout",
     "output_type": "stream",
     "text": [
      "OOPS,Not present\n"
     ]
    }
   ],
   "source": [
    "#checking ehether the key is present in dic or not\n",
    "\n",
    "dict2={\"brand\":\"ford\" ,\"year\":1964}\n",
    "if \"ford\" in dict2:   #here in keyword is used only to check keys not values\n",
    "    print(\"yes,it is present\")\n",
    "else:\n",
    "    print(\"OOPS,Not present\")"
   ]
  },
  {
   "cell_type": "code",
   "execution_count": 8,
   "metadata": {},
   "outputs": [
    {
     "name": "stdout",
     "output_type": "stream",
     "text": [
      "{'brand': 'ford', 'year': 1964}\n",
      "{'brand': 'ford', 'year': 1964, 'colour': 'red'}\n"
     ]
    }
   ],
   "source": [
    "#Adding elements to dic\n",
    "dict1={\"brand\":\"ford\" ,\"year\":1964}\n",
    "print(dict1)\n",
    "dict1[\"colour\"]=\"red\"\n",
    "print(dict1)"
   ]
  },
  {
   "cell_type": "code",
   "execution_count": 10,
   "metadata": {},
   "outputs": [
    {
     "name": "stdout",
     "output_type": "stream",
     "text": [
      "{'brand': 'ford'}\n"
     ]
    }
   ],
   "source": [
    "#Removing elements to dic\n",
    "dict1={\"brand\":\"ford\" ,\"year\":1964}\n",
    "dict1.popitem()  #last added item is deleted\n",
    "print(dict1)"
   ]
  },
  {
   "cell_type": "code",
   "execution_count": 1,
   "metadata": {},
   "outputs": [
    {
     "name": "stdout",
     "output_type": "stream",
     "text": [
      "{2: 'Harrry', 3: 'hermione'}\n"
     ]
    }
   ],
   "source": [
    "#Deleting the Entire Dictionary or specific element using index\n",
    "\n",
    "dict10={1:\"ron\",2:\"Harrry\",3:\"hermione\"}\n",
    "del dict10[1]   #deleting the entire dic and values\n",
    "print(dict10)"
   ]
  },
  {
   "cell_type": "code",
   "execution_count": 17,
   "metadata": {},
   "outputs": [
    {
     "name": "stdout",
     "output_type": "stream",
     "text": [
      "{}\n"
     ]
    }
   ],
   "source": [
    "#clearing the elements but not deleting the dic\n",
    "dict1={1:\"one\",2:\"two\"}\n",
    "dict1.clear()\n",
    "print(dict1)"
   ]
  },
  {
   "cell_type": "code",
   "execution_count": 14,
   "metadata": {},
   "outputs": [
    {
     "name": "stdout",
     "output_type": "stream",
     "text": [
      "{'a': 1, 'b': 2, 'c': 3}\n",
      "{'a': 1, 'b': 2, 'c': 3}\n"
     ]
    }
   ],
   "source": [
    "#copying the elements of dic1 and dic2 using copy()\n",
    "\n",
    "dict1={\"a\":1, \"b\":2, \"c\":3}\n",
    "dict2=dict1.copy()\n",
    "print(dict1)\n",
    "print(dict2)"
   ]
  },
  {
   "cell_type": "code",
   "execution_count": 19,
   "metadata": {},
   "outputs": [
    {
     "name": "stdout",
     "output_type": "stream",
     "text": [
      "{'a': 1, 'b': 2, 'c': 3}\n",
      "{'a': 1, 'b': 2, 'c': 3}\n"
     ]
    }
   ],
   "source": [
    "#copy of dic using dic method\n",
    "dict1={\"a\":1, \"b\":2, \"c\":3}\n",
    "dict2=dict(dict1)  #dict is a user defined function to create dic\n",
    "print(dict1)\n",
    "print(dict2)"
   ]
  },
  {
   "cell_type": "code",
   "execution_count": 21,
   "metadata": {},
   "outputs": [
    {
     "name": "stdout",
     "output_type": "stream",
     "text": [
      "{'a': 1, 'b': 2, 'c': 3}\n",
      "{'a': 1, 'b': 2, 'c': 3}\n",
      "{'a': 1, 'b': 2, 'c': 3}\n"
     ]
    }
   ],
   "source": [
    "\n",
    "dict1={\"a\":1, \"b\":2, \"c\":3}\n",
    "for x in dict1:\n",
    "    print(dict1)\n",
    "    \n",
    "    "
   ]
  },
  {
   "cell_type": "code",
   "execution_count": 22,
   "metadata": {},
   "outputs": [
    {
     "name": "stdout",
     "output_type": "stream",
     "text": [
      "1\n",
      "2\n",
      "3\n"
     ]
    }
   ],
   "source": [
    "dict1={\"a\":1, \"b\":2, \"c\":3}\n",
    "for x in dict1:\n",
    "    print(dict1[x])\n",
    "    "
   ]
  },
  {
   "cell_type": "code",
   "execution_count": 23,
   "metadata": {},
   "outputs": [
    {
     "name": "stdout",
     "output_type": "stream",
     "text": [
      "{'a': 1, 'b': 2, 'c': 3}\n",
      "{'a': 1, 'b': 2, 'c': 3}\n",
      "{'a': 1, 'b': 2, 'c': 3}\n"
     ]
    }
   ],
   "source": [
    "dict1={\"a\":1, \"b\":2, \"c\":3}\n",
    "for x in dict1.values():     #using values method\n",
    "    print(dict1)\n",
    "    "
   ]
  },
  {
   "cell_type": "code",
   "execution_count": 26,
   "metadata": {},
   "outputs": [
    {
     "name": "stdout",
     "output_type": "stream",
     "text": [
      "{'branch1': {'name': 'cse', 'strength': 400}, 'branch2': {'name': 'ece', 'strength': 350}}\n"
     ]
    }
   ],
   "source": [
    "#Nested dictionaries\n",
    "gitfam={\n",
    "    \"branch1\":{\"name\":\"cse\",\"strength\":400},\n",
    "    \"branch2\":{\"name\":\"ece\",\"strength\":350}\n",
    "}\n",
    "print(gitfam)"
   ]
  },
  {
   "cell_type": "code",
   "execution_count": 27,
   "metadata": {},
   "outputs": [
    {
     "name": "stdout",
     "output_type": "stream",
     "text": [
      "{'g': 1, 'i': 3, 't': 2, 'a': 1, 'm': 1, 'u': 1, 'n': 1, 'v': 1, 'e': 1, 'r': 1, 's': 1, 'y': 1}\n"
     ]
    }
   ],
   "source": [
    "word=\"gitamuniversity\"\n",
    "d=dict()\n",
    "for x in word:\n",
    "    if x not in d:\n",
    "        d[x]=1\n",
    "    else:\n",
    "        d[x]=d[x]+1\n",
    "print(d)"
   ]
  },
  {
   "cell_type": "code",
   "execution_count": 4,
   "metadata": {},
   "outputs": [
    {
     "name": "stdout",
     "output_type": "stream",
     "text": [
      "branch1 cse\n",
      "branch2 ece\n"
     ]
    }
   ],
   "source": [
    "dict1={\"branch1\":\"cse\",\"branch2\":\"ece\"}\n",
    "for x in dict1:\n",
    "    print(x,dict1[x])"
   ]
  },
  {
   "cell_type": "code",
   "execution_count": 9,
   "metadata": {},
   "outputs": [
    {
     "name": "stdout",
     "output_type": "stream",
     "text": [
      "{'name': 'ece', 'sections': 4}\n"
     ]
    }
   ],
   "source": [
    "gitamfamily={\n",
    "    \"b1\":{\"name\":\"cse\",\"sections\":8},\n",
    "    \"b2\":{\"name\":\"ece\",\"sections\":4}\n",
    "}\n",
    "print(gitamfamily[\"b2\"])"
   ]
  },
  {
   "cell_type": "code",
   "execution_count": 10,
   "metadata": {},
   "outputs": [
    {
     "name": "stdout",
     "output_type": "stream",
     "text": [
      "('apple', 1, 2.3)\n"
     ]
    }
   ],
   "source": [
    "#Tuples\n",
    "\n",
    "tuple1=(\"apple\",1,2.3)\n",
    "print(tuple1)"
   ]
  },
  {
   "cell_type": "code",
   "execution_count": 1,
   "metadata": {},
   "outputs": [
    {
     "name": "stdout",
     "output_type": "stream",
     "text": [
      "(1, [2, 3], 'c')\n"
     ]
    }
   ],
   "source": [
    "t= tuple([1,[2,3],\"c\"])\n",
    "print(t)"
   ]
  },
  {
   "cell_type": "code",
   "execution_count": 2,
   "metadata": {},
   "outputs": [
    {
     "name": "stdout",
     "output_type": "stream",
     "text": [
      "('H', 'e', 'l', 'l', 'o')\n"
     ]
    }
   ],
   "source": [
    "t=tuple(\"Hello\")\n",
    "print(t)"
   ]
  },
  {
   "cell_type": "code",
   "execution_count": 3,
   "metadata": {},
   "outputs": [
    {
     "name": "stdout",
     "output_type": "stream",
     "text": [
      "('Kiwi', 'banana', 'cherry')\n"
     ]
    }
   ],
   "source": [
    "t=(\"apple\",\"banana\",\"cherry\")\n",
    "t1=(\"Kiwi\",)+t[1:]\n",
    "print(t1)"
   ]
  },
  {
   "cell_type": "code",
   "execution_count": 4,
   "metadata": {},
   "outputs": [
    {
     "data": {
      "text/plain": [
       "False"
      ]
     },
     "execution_count": 4,
     "metadata": {},
     "output_type": "execute_result"
    }
   ],
   "source": [
    "(1,2,3)==(1,2,5)"
   ]
  },
  {
   "cell_type": "code",
   "execution_count": 5,
   "metadata": {},
   "outputs": [
    {
     "data": {
      "text/plain": [
       "True"
      ]
     },
     "execution_count": 5,
     "metadata": {},
     "output_type": "execute_result"
    }
   ],
   "source": [
    "(1,2,3)==(1,2,3)"
   ]
  },
  {
   "cell_type": "code",
   "execution_count": 6,
   "metadata": {},
   "outputs": [
    {
     "data": {
      "text/plain": [
       "True"
      ]
     },
     "execution_count": 6,
     "metadata": {},
     "output_type": "execute_result"
    }
   ],
   "source": [
    "(1,2,3)<(1,2,5)"
   ]
  },
  {
   "cell_type": "code",
   "execution_count": 7,
   "metadata": {},
   "outputs": [
    {
     "data": {
      "text/plain": [
       "True"
      ]
     },
     "execution_count": 7,
     "metadata": {},
     "output_type": "execute_result"
    }
   ],
   "source": [
    "(3,2)>(1,2)"
   ]
  },
  {
   "cell_type": "code",
   "execution_count": 8,
   "metadata": {},
   "outputs": [
    {
     "data": {
      "text/plain": [
       "True"
      ]
     },
     "execution_count": 8,
     "metadata": {},
     "output_type": "execute_result"
    }
   ],
   "source": [
    "(\"he\")<(\"hi\")"
   ]
  },
  {
   "cell_type": "code",
   "execution_count": 9,
   "metadata": {},
   "outputs": [],
   "source": [
    "x,y=10,20\n"
   ]
  },
  {
   "cell_type": "code",
   "execution_count": 10,
   "metadata": {},
   "outputs": [
    {
     "name": "stdout",
     "output_type": "stream",
     "text": [
      "20 10\n"
     ]
    }
   ],
   "source": [
    "a=10\n",
    "b=20\n",
    "a,b=b,a\n",
    "print(a,b)"
   ]
  },
  {
   "cell_type": "code",
   "execution_count": 11,
   "metadata": {},
   "outputs": [
    {
     "ename": "ValueError",
     "evalue": "too many values to unpack (expected 2)",
     "output_type": "error",
     "traceback": [
      "\u001b[1;31m---------------------------------------------------------------------------\u001b[0m",
      "\u001b[1;31mValueError\u001b[0m                                Traceback (most recent call last)",
      "\u001b[1;32m<ipython-input-11-e9dfbcf141e3>\u001b[0m in \u001b[0;36m<module>\u001b[1;34m\u001b[0m\n\u001b[1;32m----> 1\u001b[1;33m \u001b[0mx\u001b[0m\u001b[1;33m,\u001b[0m\u001b[0my\u001b[0m\u001b[1;33m=\u001b[0m\u001b[1;36m10\u001b[0m\u001b[1;33m,\u001b[0m\u001b[1;36m20\u001b[0m\u001b[1;33m,\u001b[0m\u001b[1;36m30\u001b[0m\u001b[1;33m\u001b[0m\u001b[1;33m\u001b[0m\u001b[0m\n\u001b[0m\u001b[0;32m      2\u001b[0m \u001b[0mprint\u001b[0m\u001b[1;33m(\u001b[0m\u001b[0mx\u001b[0m\u001b[1;33m,\u001b[0m\u001b[0my\u001b[0m\u001b[1;33m)\u001b[0m\u001b[1;33m\u001b[0m\u001b[1;33m\u001b[0m\u001b[0m\n",
      "\u001b[1;31mValueError\u001b[0m: too many values to unpack (expected 2)"
     ]
    }
   ],
   "source": [
    "x,y=10,20,30\n",
    "print(x,y)"
   ]
  },
  {
   "cell_type": "code",
   "execution_count": 12,
   "metadata": {},
   "outputs": [
    {
     "name": "stdout",
     "output_type": "stream",
     "text": [
      "[('a', 10), ('b', 1), ('c', 3)]\n"
     ]
    }
   ],
   "source": [
    "#dictionaries and tuples\n",
    "\n",
    "d={\"a\":10,\"b\":1,\"c\":3}\n",
    "t=list(d.items())\n",
    "print(t)"
   ]
  },
  {
   "cell_type": "code",
   "execution_count": 14,
   "metadata": {},
   "outputs": [
    {
     "name": "stdout",
     "output_type": "stream",
     "text": [
      "{'a': 1, 'b': 2}\n"
     ]
    }
   ],
   "source": [
    "d={\"a\":1,\"b\":2}\n",
    "print(d)            #dictionry elemnts are unordered\n",
    "                    #tuples are ordered"
   ]
  },
  {
   "cell_type": "code",
   "execution_count": 15,
   "metadata": {},
   "outputs": [
    {
     "name": "stdout",
     "output_type": "stream",
     "text": [
      "{'a': 1, 'b': 2, 'c': 3}\n"
     ]
    }
   ],
   "source": [
    "d={\"a\":1,\"b\":2,\"c\":3}\n",
    "print(d)"
   ]
  },
  {
   "cell_type": "code",
   "execution_count": 16,
   "metadata": {},
   "outputs": [
    {
     "name": "stdout",
     "output_type": "stream",
     "text": [
      "tom 1992\n",
      "jerry 1993\n",
      "donald 1994\n"
     ]
    }
   ],
   "source": [
    "d={\n",
    "    \"tom\":1992,\n",
    "    \"jerry\":1993,\n",
    "    \"donald\":1994\n",
    "}\n",
    "for key,val in list(d.items()):\n",
    "    print(key,val)"
   ]
  },
  {
   "cell_type": "code",
   "execution_count": 18,
   "metadata": {},
   "outputs": [
    {
     "name": "stdout",
     "output_type": "stream",
     "text": [
      "list of tuples: [(9291, 'tom'), (3250, 'jerry'), (8913, 'donald')]\n",
      "gitam university [(9291, 'tom'), (8913, 'donald'), (3250, 'jerry')]\n"
     ]
    }
   ],
   "source": [
    "d={\"tom\":9291,\"jerry\":3250,\"donald\":8913}\n",
    "ls=list()\n",
    "for key,val in d.items():\n",
    "    ls.append((val,key))\n",
    "print(\"list of tuples:\",ls)\n",
    "ls.sort(reverse=True)\n",
    "print(\"gitam university\",ls)"
   ]
  },
  {
   "cell_type": "code",
   "execution_count": 27,
   "metadata": {},
   "outputs": [
    {
     "name": "stdout",
     "output_type": "stream",
     "text": [
      "List is: [(3, 'Ram'), (3, 'and'), (6, 'Seeeta'), (4, 'went'), (2, 'to'), (6, 'forest'), (4, 'with'), (8, 'Lakshman')]\n",
      "The sorted list: ['Lakshman', 'forest', 'Seeeta', 'with', 'went', 'and', 'Ram', 'to']\n"
     ]
    }
   ],
   "source": [
    "#words counting\n",
    "\n",
    "txt=\"Ram and Seeeta went to forest with Lakshman\"\n",
    "words=txt.split()\n",
    "t=list()\n",
    "for word in words:\n",
    "    t.append((len(word),word))\n",
    "print(\"List is:\",t)\n",
    "t.sort(reverse=True)\n",
    "res=list()\n",
    "for length, word in t:\n",
    "    res.append(word)\n",
    "    \n",
    "print(\"The sorted list:\",res)\n",
    "\n"
   ]
  },
  {
   "cell_type": "code",
   "execution_count": 29,
   "metadata": {},
   "outputs": [
    {
     "name": "stdout",
     "output_type": "stream",
     "text": [
      "tom cat 3561\n",
      "jerry mouse 4014\n",
      "donald duck 9815\n"
     ]
    }
   ],
   "source": [
    "names=((\"tom\",\"cat\"),(\"jerry\",\"mouse\"),(\"donald\",\"duck\")) #tuple \n",
    "number=[3561,4014,9815]\n",
    "telDir={}\n",
    "for i in range(len(names)):\n",
    "    telDir[names[i]]=number[i]\n",
    "for fn,ln in telDir:\n",
    "    print(fn,ln,telDir[fn,ln])"
   ]
  },
  {
   "cell_type": "code",
   "execution_count": 30,
   "metadata": {},
   "outputs": [
    {
     "name": "stdout",
     "output_type": "stream",
     "text": [
      "The sorted list: ['Lakshman', 'forest', 'Seeeta', 'with', 'went', 'and', 'Ram', 'to']\n"
     ]
    }
   ],
   "source": [
    "t.sort(reverse=True)\n",
    "res=list()\n",
    "for length, word in t:\n",
    "    res.append(word)\n",
    "    \n",
    "print(\"The sorted list:\",res)"
   ]
  },
  {
   "cell_type": "code",
   "execution_count": 32,
   "metadata": {},
   "outputs": [
    {
     "name": "stdout",
     "output_type": "stream",
     "text": [
      "{('tom', 'cat'): 3561, ('jerry', 'mouse'): 4014, ('donald', 'duck'): 9815}\n"
     ]
    }
   ],
   "source": [
    "#printing Dic\n",
    "names=((\"tom\",\"cat\"),(\"jerry\",\"mouse\"),(\"donald\",\"duck\")) #tuple \n",
    "number=[3561,4014,9815]\n",
    "telDir={}\n",
    "for i in range(len(names)):\n",
    "    telDir[names[i]]=number[i]\n",
    "print(telDir)"
   ]
  },
  {
   "cell_type": "code",
   "execution_count": null,
   "metadata": {},
   "outputs": [],
   "source": []
  }
 ],
 "metadata": {
  "kernelspec": {
   "display_name": "Python 3",
   "language": "python",
   "name": "python3"
  },
  "language_info": {
   "codemirror_mode": {
    "name": "ipython",
    "version": 3
   },
   "file_extension": ".py",
   "mimetype": "text/x-python",
   "name": "python",
   "nbconvert_exporter": "python",
   "pygments_lexer": "ipython3",
   "version": "3.8.3"
  }
 },
 "nbformat": 4,
 "nbformat_minor": 4
}
